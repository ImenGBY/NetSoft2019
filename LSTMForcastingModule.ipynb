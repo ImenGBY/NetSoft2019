{
 "cells": [
  {
   "cell_type": "markdown",
   "metadata": {},
   "source": [
    "references used to elaborate this code are : \n",
    "https://keras.io/getting-started/sequential-model-guide/\n",
    "https://keras.io/layers/wrappers/#bidirectional\n",
    "https://github.com/keras-team/keras\n",
    "https://machinelearningmastery.com/"
   ]
  },
  {
   "cell_type": "code",
   "execution_count": 6,
   "metadata": {},
   "outputs": [],
   "source": [
    "# univariate data preparation\n",
    "from numpy import array\n",
    "import numpy\n",
    "# split a univariate sequence into samples\n",
    "def split_sequence(sequence, n_steps):\n",
    "\tX, y = list(), list()\n",
    "\tfor i in range(len(sequence)):\n",
    "        \n",
    "\t\t# find the end of this pattern\n",
    "\t\tend_ix = i + n_steps\n",
    "\t\t# check if we are beyond the sequence\n",
    "\t\tif end_ix > len(sequence)-1:\n",
    "\t\t\tbreak\n",
    "\t\t# gather input and output parts of the pattern\n",
    "\t\tseq_x, seq_y = sequence[i:end_ix], sequence[end_ix]\n",
    "\t\tX.append(seq_x)\n",
    "\t\ty.append(seq_y)\n",
    "\treturn array(X), array(y)\n",
    "\n",
    "def scale(train, test):\n",
    "\t# fit scaler\n",
    "\tscaler = MinMaxScaler(feature_range=(-1, 1))\n",
    "\tscaler = scaler.fit(train)\n",
    "\t# transform train\n",
    "\ttrain = train.reshape(train.shape[0], train.shape[1])\n",
    "\ttrain_scaled = scaler.transform(train)\n",
    "\t# transform test\n",
    "\ttest = test.reshape(test.shape[0], test.shape[1])\n",
    "\ttest_scaled = scaler.transform(test)\n",
    "\treturn scaler, train_scaled, test_scaled\n",
    "\n",
    "# inverse scaling for a forecasted value. here the scaler.inverse_transform is used directly\n",
    "def invert_scale(scaler, X, value):\n",
    "\tnew_row = [x for x in X] + [value]\n",
    "\tarray = np.array(new_row)\n",
    "\tarray = array.reshape(1, len(array))\n",
    "\tinverted = scaler.inverse_transform(array)\n",
    "\treturn inverted[0, -1]"
   ]
  },
  {
   "cell_type": "code",
   "execution_count": 7,
   "metadata": {},
   "outputs": [
    {
     "data": {
      "text/plain": [
       "(25911, 1)"
      ]
     },
     "execution_count": 7,
     "metadata": {},
     "output_type": "execute_result"
    }
   ],
   "source": [
    "import pandas as pd\n",
    "import numpy \n",
    "from matplotlib import pyplot\n",
    "\n",
    "series = pd.read_csv('Daily_TSNew_i-001683a6-rp-static-server-15197471722.csv', index_col=[0])\n",
    "\n",
    "series.shape\n",
    "series = series.values\n",
    "series.shape\n"
   ]
  },
  {
   "cell_type": "code",
   "execution_count": 8,
   "metadata": {},
   "outputs": [
    {
     "data": {
      "text/plain": [
       "[<matplotlib.lines.Line2D at 0x7fdbd26dc2e8>]"
      ]
     },
     "execution_count": 8,
     "metadata": {},
     "output_type": "execute_result"
    },
    {
     "data": {
      "image/png": "[encoded data removed]",
      "text/plain": [
       "<Figure size 432x288 with 1 Axes>"
      ]
     },
     "metadata": {},
     "output_type": "display_data"
    }
   ],
   "source": [
    "pyplot.plot(series)"
   ]
  },
  {
   "cell_type": "code",
   "execution_count": 29,
   "metadata": {},
   "outputs": [
    {
     "data": {
      "text/plain": [
       "((17360, 1), (8551, 1))"
      ]
     },
     "execution_count": 29,
     "metadata": {},
     "output_type": "execute_result"
    }
   ],
   "source": [
    "# split into train and test sets\n",
    "train_size = int(len(series) * 0.67)\n",
    "train_size, \n",
    "train, test = series[0:train_size,:], series[train_size:len(series),:]\n",
    "train.shape, test.shape\n",
    "\n",
    "\n",
    " \n",
    "#scaler, train_scaled, test_scaled = scale(train, test)\n",
    "#train_scaled, test_scaled\n",
    "#train = train_scaled\n",
    "#test = test_scaled\n",
    "#train, test"
   ]
  },
  {
   "cell_type": "code",
   "execution_count": 16,
   "metadata": {},
   "outputs": [
    {
     "data": {
      "text/plain": [
       "((17359, 1, 1), (8550, 1, 1))"
      ]
     },
     "execution_count": 16,
     "metadata": {},
     "output_type": "execute_result"
    }
   ],
   "source": [
    "# here we construct the supervised problem table\n",
    " \n",
    "n_steps=1\n",
    "\n",
    "#seriesX, seriesy = split_sequence(series, n_steps)\n",
    "#seriesX.shape, seriesy.shape\n",
    "#create trainseriesX and trainseriesy \n",
    "trainseriesX, trainseriesy = split_sequence(train, n_steps)\n",
    "\n",
    "\n",
    "#create testseriesX and testseriesy\n",
    "testseriesX, testseriesy = split_sequence(test, n_steps)\n",
    "trainseriesX.shape, testseriesX.shape"
   ]
  },
  {
   "cell_type": "code",
   "execution_count": 17,
   "metadata": {},
   "outputs": [],
   "source": [
    "from numpy import array\n",
    "from keras.models import Sequential\n",
    "from keras.layers import LSTM\n",
    "from keras.layers import Dense\n",
    "from keras.utils.vis_utils import plot_model\n",
    "import numpy as np"
   ]
  },
  {
   "cell_type": "code",
   "execution_count": 18,
   "metadata": {},
   "outputs": [
    {
     "name": "stdout",
     "output_type": "stream",
     "text": [
      "_________________________________________________________________\n",
      "Layer (type)                 Output Shape              Param #   \n",
      "=================================================================\n",
      "lstm_2 (LSTM)                (None, 4)                 96        \n",
      "_________________________________________________________________\n",
      "dense_2 (Dense)              (None, 1)                 5         \n",
      "=================================================================\n",
      "Total params: 101\n",
      "Trainable params: 101\n",
      "Non-trainable params: 0\n",
      "_________________________________________________________________\n"
     ]
    }
   ],
   "source": [
    "\n",
    "#Usecase2 config\n",
    "# to always shape the data as [samples, timesteps, features]\n",
    "# reshape from [samples, timesteps] into [samples, timesteps, features]\n",
    "\n",
    "n_features = 1\n",
    "\n",
    "#seriesX = seriesX.reshape((seriesX.shape[0], seriesX.shape[1], n_features))\n",
    "trainseriesX = trainseriesX.reshape((trainseriesX.shape[0], trainseriesX.shape[1], n_features))\n",
    "# #scenario1 config\n",
    "\n",
    "model = Sequential()\n",
    "model.add(LSTM(4, activation='relu', input_shape=(n_steps, n_features)))\n",
    "model.add(Dense(1))\n",
    "model.compile(optimizer='adam', loss='mse')\n",
    "model.summary()\n",
    "plot_model(model, to_file='usecase2.png', show_shapes=True, show_layer_names=True)"
   ]
  },
  {
   "cell_type": "code",
   "execution_count": null,
   "metadata": {},
   "outputs": [],
   "source": [
    "#Usecase3 config\n",
    "# define model\n",
    "model = Sequential()\n",
    "model.add(LSTM(50, activation='relu', return_sequences=True, input_shape=(n_steps, n_features)))\n",
    "model.add(LSTM(50, activation='relu'))\n",
    "model.add(Dense(1))\n",
    "model.compile(optimizer='adam', loss='mse')\n",
    "plot_model(model, to_file='usecase3.png', show_shapes=True, show_layer_names=True)"
   ]
  },
  {
   "cell_type": "code",
   "execution_count": null,
   "metadata": {},
   "outputs": [],
   "source": [
    "#Usecase4 config\n",
    "from keras.layers import Bidirectional\n",
    "# define model\n",
    "model = Sequential()\n",
    "model.add(Bidirectional(LSTM(4, activation='relu'), input_shape=(n_steps, n_features)))\n",
    "model.add(Dense(1))\n",
    "model.compile(optimizer='adam', loss='mse')\n",
    "plot_model(model, to_file='usecase4', show_shapes=True, show_layer_names=True)"
   ]
  },
  {
   "cell_type": "code",
   "execution_count": 19,
   "metadata": {
    "scrolled": false
   },
   "outputs": [
    {
     "name": "stdout",
     "output_type": "stream",
     "text": [
      "1) Train RMSE: 1.703\n",
      "2) Train RMSE: 1.698\n",
      "3) Train RMSE: 1.695\n",
      "4) Train RMSE: 1.696\n",
      "5) Train RMSE: 1.697\n",
      "6) Train RMSE: 1.704\n",
      "7) Train RMSE: 1.694\n",
      "8) Train RMSE: 1.702\n",
      "9) Train RMSE: 1.691\n",
      "10) Train RMSE: 1.699\n",
      "11) Train RMSE: 1.691\n",
      "12) Train RMSE: 1.741\n",
      "13) Train RMSE: 1.688\n",
      "14) Train RMSE: 1.694\n",
      "15) Train RMSE: 1.687\n",
      "16) Train RMSE: 1.688\n",
      "17) Train RMSE: 1.687\n",
      "18) Train RMSE: 1.695\n",
      "19) Train RMSE: 1.698\n",
      "20) Train RMSE: 1.700\n",
      "21) Train RMSE: 1.688\n",
      "22) Train RMSE: 1.689\n",
      "23) Train RMSE: 1.715\n",
      "24) Train RMSE: 1.690\n",
      "25) Train RMSE: 1.686\n",
      "26) Train RMSE: 1.688\n",
      "27) Train RMSE: 1.686\n",
      "28) Train RMSE: 1.686\n",
      "29) Train RMSE: 1.688\n",
      "30) Train RMSE: 1.686\n"
     ]
    }
   ],
   "source": [
    "from math import sqrt\n",
    "import math\n",
    "from sklearn.metrics import mean_squared_error\n",
    "\n",
    "# demonstrate prediction, the rule is to have the test as testseriesX = testseriesX.reshape(1, n_steps, n_features)\n",
    "\n",
    "testseriesX = testseriesX.reshape((testseriesX.shape[0], testseriesX.shape[1], n_features))\n",
    "\n",
    "# in general the input should be as x_input = x_input.reshape((1, n_steps, n_features))\n",
    "\n",
    "repeats = 30\n",
    "error_trainscores = list()\n",
    "#error_testscores = list()\n",
    "\n",
    "for r in range(repeats):\n",
    "    # fit model\n",
    "    #from keras.callbacks import EarlyStopping\n",
    "    #early_stopping = EarlyStopping(monitor='loss', patience=2)\n",
    "    \n",
    "    #starting the training on trainseriesX with known trainseriesy\n",
    "    #model.fit(trainseriesX, trainseriesy, epochs=100, callbacks=[early_stopping], verbose=0)\n",
    "    model.fit(trainseriesX, trainseriesy, epochs=100, verbose=0)\n",
    "    \n",
    "    #perform the prediction on the train and test\n",
    "    trainPredict = model.predict(trainseriesX, batch_size=32, verbose =0)\n",
    " \n",
    "    # calculate root mean squared error for train and test \n",
    "    trainScore = math.sqrt(mean_squared_error(trainseriesy, trainPredict))\n",
    "    \n",
    "    #report performance for train\n",
    "    print('%d) Train RMSE: %.3f' % (r+1, trainScore))\n",
    "    error_trainscores.append(trainScore)\n",
    "  "
   ]
  },
  {
   "cell_type": "code",
   "execution_count": 20,
   "metadata": {},
   "outputs": [
    {
     "name": "stdout",
     "output_type": "stream",
     "text": [
      "       trainScore\n",
      "count   30.000000\n",
      "mean     1.694952\n",
      "std      0.010971\n",
      "min      1.686175\n",
      "25%      1.687810\n",
      "50%      1.692625\n",
      "75%      1.698238\n",
      "max      1.740665\n"
     ]
    },
    {
     "data": {
      "text/plain": [
       "<matplotlib.axes._subplots.AxesSubplot at 0x7fdbb4697f98>"
      ]
     },
     "execution_count": 20,
     "metadata": {},
     "output_type": "execute_result"
    },
    {
     "data": {
      "text/plain": [
       "<Figure size 1440x360 with 0 Axes>"
      ]
     },
     "metadata": {},
     "output_type": "display_data"
    },
    {
     "data": {
      "image/png": "[encoded data removed]",
      "text/plain": [
       "<Figure size 720x720 with 1 Axes>"
      ]
     },
     "metadata": {},
     "output_type": "display_data"
    }
   ],
   "source": [
    "pyplot.figure(figsize=(20,5))\n",
    "\n",
    "from pandas import DataFrame\n",
    "# summarize Train results and check the minimum RMSE on training data\n",
    "resultsTrain = DataFrame()\n",
    "resultsTrain['trainScore'] = error_trainscores\n",
    "print (resultsTrain.describe())\n",
    "resultsTrain.plot(kind='box', subplots=None, layout=(2,2), sharex=False, sharey=False, figsize=(10,10))"
   ]
  },
  {
   "cell_type": "code",
   "execution_count": 21,
   "metadata": {},
   "outputs": [
    {
     "name": "stdout",
     "output_type": "stream",
     "text": [
      "Test RMSE: 2.875\n"
     ]
    }
   ],
   "source": [
    "testPredict = model.predict(testseriesX, batch_size = 32, verbose=0)\n",
    "testScore = math.sqrt(mean_squared_error(testseriesy, testPredict))\n",
    "#report performance for test\n",
    "print('Test RMSE: %.3f' % (testScore))"
   ]
  },
  {
   "cell_type": "markdown",
   "metadata": {},
   "source": []
  },
  {
   "cell_type": "code",
   "execution_count": 22,
   "metadata": {},
   "outputs": [
    {
     "data": {
      "text/plain": [
       "[<matplotlib.lines.Line2D at 0x7fdb9eef0ef0>]"
      ]
     },
     "execution_count": 22,
     "metadata": {},
     "output_type": "execute_result"
    },
    {
     "data": {
      "image/png": "[encoded data removed]",
      "text/plain": [
       "<Figure size 1440x360 with 1 Axes>"
      ]
     },
     "metadata": {},
     "output_type": "display_data"
    }
   ],
   "source": [
    "import matplotlib.pyplot as plt\n",
    "pyplot.figure(figsize=(20,5))\n",
    "look_back=n_steps\n",
    "# shift train predictions for plotting\n",
    "trainPredictPlot = numpy.empty_like(series)\n",
    "trainPredictPlot[:, :] = numpy.nan\n",
    "trainPredictPlot[look_back:len(trainPredict)+look_back, :] = trainPredict\n",
    "# shift test predictions for plotting\n",
    "testPredictPlot = numpy.empty_like(series)\n",
    "testPredictPlot[:, :] = numpy.nan\n",
    "testPredictPlot[len(trainPredict)+(look_back):len(series)-1, :] = testPredict\n",
    "# plot baseline and predictions\n",
    "plt.plot(series,color='blue',label=\"True\",marker = 'o', linewidth=1, markersize=6)\n",
    "plt.plot(trainPredictPlot,color='red',label=\"True\",marker = 'o', linewidth=1, markersize=1)\n",
    "plt.plot(testPredictPlot,color='green',label=\"Forecasting\", marker = 'o', linewidth=1, markersize=1)\n",
    "#plt.plot(scaler.inverse_transform(series))\n",
    "#pyplot.plot(series)\n",
    "#pyplot.plot(trainPredictPlot)\n",
    "#pyplot.plot(testPredictPlot)\n",
    "#pyplot.show()"
   ]
  },
  {
   "cell_type": "markdown",
   "metadata": {},
   "source": [
    "summary of results are below. \n",
    "\n",
    "## Usecase2: \n",
    "model = Sequential()\n",
    "model.add(LSTM(50, activation='relu', input_shape=(n_steps, n_features)))\n",
    "model.add(Dense(1))\n",
    "model.compile(optimizer='adam', loss='mse')\n",
    "model.summary()\n",
    "\n",
    "\n",
    "lag = 5\n",
    "Train Score: 1.46 RMSE\n",
    "Test Score: 2.18 RMSE\n",
    "\n",
    "lag = 1\n",
    "Train Score: 1.69 RMSE\n",
    "Test Score: 2.25 RMSE\n",
    "\n",
    "## Usecase3\n",
    "model = Sequential()\n",
    "model.add(LSTM(50, activation='relu', return_sequences=True, input_shape=(n_steps, n_features)))\n",
    "model.add(LSTM(50, activation='relu'))\n",
    "model.add(Dense(1))\n",
    "model.compile(optimizer='adam', loss='mse')\n",
    "\n",
    "lag=1\n",
    "Train Score: 1.83 RMSE\n",
    "Test Score: 2.53 RMSE\n",
    "\n",
    "lag=5\n",
    "Train Score: 1.49 RMSE\n",
    "Test Score: 2.07 RMSE\n",
    "\n",
    "\n",
    "## Usecase4\n",
    "model = Sequential()\n",
    "model.add(Bidirectional(LSTM(50, activation='relu'), input_shape=(n_steps, n_features)))\n",
    "model.add(Dense(1))\n",
    "model.compile(optimizer='adam', loss='mse')\n",
    "\n",
    "lag=1\n",
    "Train Score: 1.74 RMSE\n",
    "Test Score: 2.25 RMSE\n",
    "\n",
    "lag=5\n",
    "Train Score: 1.46 RMSE\n",
    "Test Score: 2.34 RMSE\n",
    "\n",
    "lag=1 \n",
    "nbr de neuronnes = 4\n",
    "Train Score: 1.69 RMSE\n",
    "Test Score: 2.13 RMSE\n",
    "\n",
    "Train Score: 1.71 RMSE\n",
    "Test Score: 2.14 RMSE\n"
   ]
  },
  {
   "cell_type": "code",
   "execution_count": null,
   "metadata": {},
   "outputs": [],
   "source": []
  },
  {
   "cell_type": "code",
   "execution_count": null,
   "metadata": {},
   "outputs": [],
   "source": []
  }
 ],
 "metadata": {
  "kernelspec": {
   "display_name": "Python 3",
   "language": "python",
   "name": "python3"
  },
  "language_info": {
   "codemirror_mode": {
    "name": "ipython",
    "version": 3
   },
   "file_extension": ".py",
   "mimetype": "text/x-python",
   "name": "python",
   "nbconvert_exporter": "python",
   "pygments_lexer": "ipython3",
   "version": "3.6.3"
  },
  "toc": {
   "base_numbering": 1,
   "nav_menu": {},
   "number_sections": true,
   "sideBar": true,
   "skip_h1_title": false,
   "title_cell": "Table of Contents",
   "title_sidebar": "Contents",
   "toc_cell": false,
   "toc_position": {},
   "toc_section_display": true,
   "toc_window_display": false
  }
 },
 "nbformat": 4,
 "nbformat_minor": 2
}
